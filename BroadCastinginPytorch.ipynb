{
 "cells": [
  {
   "cell_type": "markdown",
   "id": "b93e0e94-b3ad-4d86-9db7-6eb4a57555ae",
   "metadata": {},
   "source": [
    "# BroadCasting"
   ]
  },
  {
   "cell_type": "markdown",
   "id": "d26d4700-45c7-4d71-923d-57b0437af9c5",
   "metadata": {},
   "source": [
    "allows you to perform arithmetic operations on tensors with different shapes"
   ]
  },
  {
   "cell_type": "code",
   "execution_count": 1,
   "id": "a599fa03-eee9-4068-a776-538c457ab11d",
   "metadata": {},
   "outputs": [
    {
     "name": "stderr",
     "output_type": "stream",
     "text": [
      "/home/mtech1/miniconda3/lib/python3.9/site-packages/tqdm/auto.py:22: TqdmWarning: IProgress not found. Please update jupyter and ipywidgets. See https://ipywidgets.readthedocs.io/en/stable/user_install.html\n",
      "  from .autonotebook import tqdm as notebook_tqdm\n"
     ]
    }
   ],
   "source": [
    "import torch"
   ]
  },
  {
   "cell_type": "code",
   "execution_count": 2,
   "id": "4830ae72-6fae-4b2b-96af-72e30cfb6e87",
   "metadata": {},
   "outputs": [],
   "source": [
    "a = torch.tensor([2,3,4])\n",
    "b = torch.tensor([5,6,7])"
   ]
  },
  {
   "cell_type": "code",
   "execution_count": 7,
   "id": "b0784124-5d50-42c0-ab75-27f4ffe56c8a",
   "metadata": {},
   "outputs": [
    {
     "name": "stdout",
     "output_type": "stream",
     "text": [
      "tensor([2, 3, 4])\n",
      "torch.Size([3])\n"
     ]
    }
   ],
   "source": [
    "print(a)\n",
    "print(a.shape)"
   ]
  },
  {
   "cell_type": "code",
   "execution_count": 9,
   "id": "a384d121-2c13-4735-ade3-3121688834a3",
   "metadata": {},
   "outputs": [
    {
     "name": "stdout",
     "output_type": "stream",
     "text": [
      "tensor([5, 6, 7])\n",
      "torch.Size([3])\n"
     ]
    }
   ],
   "source": [
    "print(b)\n",
    "print(b.shape)"
   ]
  },
  {
   "cell_type": "code",
   "execution_count": 12,
   "id": "19ec8591-e9f1-4f06-8446-51187584b610",
   "metadata": {},
   "outputs": [
    {
     "name": "stdout",
     "output_type": "stream",
     "text": [
      "tensor([ 7,  9, 11])\n"
     ]
    }
   ],
   "source": [
    "# Addition\n",
    "c = a + b\n",
    "print(c)\n",
    "# both a and b are of same shape, this is element-wise addition\n",
    "# same goes for substraction"
   ]
  },
  {
   "cell_type": "code",
   "execution_count": 16,
   "id": "ca04013c-3c30-41b0-8407-e2a0cedf933e",
   "metadata": {},
   "outputs": [],
   "source": [
    "# How does these operations work for tensors with different shapes?\n",
    "# Here broadcasting comes into play\n",
    "# There are 3 different rules for broadcasting"
   ]
  },
  {
   "cell_type": "code",
   "execution_count": 17,
   "id": "34e2b3fb-368b-4d8f-9705-5d8bb7b07765",
   "metadata": {},
   "outputs": [],
   "source": [
    "tensor1 = torch.tensor([[1,2,3]]) # 1 x 3\n",
    "tensor2 = torch.tensor([[4],[5],[6]]) # 3 x 1"
   ]
  },
  {
   "cell_type": "code",
   "execution_count": 18,
   "id": "681bbb3e-cde3-40bb-9ddd-5bb2ccee9a48",
   "metadata": {},
   "outputs": [
    {
     "name": "stdout",
     "output_type": "stream",
     "text": [
      "torch.Size([1, 3])\n",
      "torch.Size([3, 1])\n"
     ]
    }
   ],
   "source": [
    "print(tensor1.shape)\n",
    "print(tensor2.shape)"
   ]
  },
  {
   "cell_type": "code",
   "execution_count": 21,
   "id": "78513a5f-0362-45e6-aa60-c054b20cd6a2",
   "metadata": {},
   "outputs": [],
   "source": [
    "# Not all tensors are broadcastable"
   ]
  },
  {
   "cell_type": "code",
   "execution_count": 22,
   "id": "820455f9-1681-4555-b576-2005c22942ef",
   "metadata": {},
   "outputs": [],
   "source": [
    "# There is test that the tensors are broadcastable\n",
    "# 1. Check tensors shapes from backward\n",
    "#    We have (1,3) (3,1)\n",
    "#    a) They are equal to each other or\n",
    "#    b) one of the dimensions is one\n",
    "#   What is the shape of the resulting tensor?\n",
    "#   Take maximum from each dim ie, result = (3,3)"
   ]
  },
  {
   "cell_type": "code",
   "execution_count": 23,
   "id": "31f6d8bf-46d8-48b2-ac73-91a2dde4c8b2",
   "metadata": {},
   "outputs": [
    {
     "data": {
      "text/plain": [
       "tensor([[5, 6, 7],\n",
       "        [6, 7, 8],\n",
       "        [7, 8, 9]])"
      ]
     },
     "execution_count": 23,
     "metadata": {},
     "output_type": "execute_result"
    }
   ],
   "source": [
    "tensor1 + tensor2"
   ]
  },
  {
   "cell_type": "code",
   "execution_count": 47,
   "id": "30055e71-8476-42ac-8e4a-0463c82c22a2",
   "metadata": {},
   "outputs": [],
   "source": [
    "a = torch.tensor([[1,2,3]]) # 1 x 3\n",
    "b = torch.tensor(9) # scalar"
   ]
  },
  {
   "cell_type": "code",
   "execution_count": 48,
   "id": "acb54911-c889-4026-8ba5-49d103163dbf",
   "metadata": {},
   "outputs": [
    {
     "data": {
      "text/plain": [
       "tensor([[10, 11, 12]])"
      ]
     },
     "execution_count": 48,
     "metadata": {},
     "output_type": "execute_result"
    }
   ],
   "source": [
    "a + b"
   ]
  },
  {
   "cell_type": "code",
   "execution_count": 49,
   "id": "670c49e8-512a-48bc-aea5-d70709d720b0",
   "metadata": {},
   "outputs": [
    {
     "data": {
      "text/plain": [
       "tensor([[ 9, 18, 27]])"
      ]
     },
     "execution_count": 49,
     "metadata": {},
     "output_type": "execute_result"
    }
   ],
   "source": [
    "a * b"
   ]
  },
  {
   "cell_type": "code",
   "execution_count": 50,
   "id": "a6c0e3c4-6468-42e8-a03f-24a0c43b2260",
   "metadata": {},
   "outputs": [],
   "source": [
    "# add 1 for the lower dimension tensor if there isn't a value\n",
    "# associated with the higher dimension\n",
    "# (8,7,6) \n",
    "# (5,4)\n",
    "# add 1 to (5,4) in the last dimension to make proper comparision\n",
    "# (8,7,6) and (5,4,1)"
   ]
  },
  {
   "cell_type": "code",
   "execution_count": null,
   "id": "daabc75f-034f-4a94-bcb2-4f2954f35896",
   "metadata": {},
   "outputs": [],
   "source": []
  }
 ],
 "metadata": {
  "kernelspec": {
   "display_name": "Python 3 (ipykernel)",
   "language": "python",
   "name": "python3"
  },
  "language_info": {
   "codemirror_mode": {
    "name": "ipython",
    "version": 3
   },
   "file_extension": ".py",
   "mimetype": "text/x-python",
   "name": "python",
   "nbconvert_exporter": "python",
   "pygments_lexer": "ipython3",
   "version": "3.9.12"
  }
 },
 "nbformat": 4,
 "nbformat_minor": 5
}
